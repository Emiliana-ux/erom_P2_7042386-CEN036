{
  "nbformat": 4,
  "nbformat_minor": 0,
  "metadata": {
    "colab": {
      "name": "exercicio_4.ipynb",
      "provenance": [],
      "authorship_tag": "ABX9TyMFY6OFt7DbFrIThRu8VeoH",
      "include_colab_link": true
    },
    "kernelspec": {
      "name": "python3",
      "display_name": "Python 3"
    }
  },
  "cells": [
    {
      "cell_type": "markdown",
      "metadata": {
        "id": "view-in-github",
        "colab_type": "text"
      },
      "source": [
        "<a href=\"https://colab.research.google.com/github/Emiliana-ux/erom_P2_7042386-CEN036/blob/main/exercicio_4.ipynb\" target=\"_parent\"><img src=\"https://colab.research.google.com/assets/colab-badge.svg\" alt=\"Open In Colab\"/></a>"
      ]
    },
    {
      "cell_type": "code",
      "metadata": {
        "id": "1gk8FQ1BAjEQ"
      },
      "source": [
        "Total = 0\r\n",
        "contador = 0\r\n"
      ],
      "execution_count": 7,
      "outputs": []
    },
    {
      "cell_type": "code",
      "metadata": {
        "id": "63dc1aXDCXrm"
      },
      "source": [
        "a = 1\r\n",
        "while a <= contador:\r\n",
        "  nota = float(input(\"NOTA\" + str(a) + \":\"))\r\n",
        "  Total += nota\r\n",
        "  a+=1\r\n",
        "  print(\"Média:\" + str(Total/10))"
      ],
      "execution_count": 13,
      "outputs": []
    }
  ]
}