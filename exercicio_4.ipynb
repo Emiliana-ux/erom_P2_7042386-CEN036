{
  "nbformat": 4,
  "nbformat_minor": 0,
  "metadata": {
    "colab": {
      "name": "exercicio_4.ipynb",
      "provenance": [],
      "authorship_tag": "ABX9TyNu4LKweYVAzClrhtzF1XbQ",
      "include_colab_link": true
    },
    "kernelspec": {
      "name": "python3",
      "display_name": "Python 3"
    }
  },
  "cells": [
    {
      "cell_type": "markdown",
      "metadata": {
        "id": "view-in-github",
        "colab_type": "text"
      },
      "source": [
        "<a href=\"https://colab.research.google.com/github/Emiliana-ux/erom_P2_7042386-CEN036/blob/main/exercicio_4.ipynb\" target=\"_parent\"><img src=\"https://colab.research.google.com/assets/colab-badge.svg\" alt=\"Open In Colab\"/></a>"
      ]
    },
    {
      "cell_type": "code",
      "metadata": {
        "id": "1gk8FQ1BAjEQ"
      },
      "source": [
        "Total = 0\r\n",
        "contador = 0\r\n"
      ],
      "execution_count": 7,
      "outputs": []
    },
    {
      "cell_type": "code",
      "metadata": {
        "colab": {
          "base_uri": "https://localhost:8080/"
        },
        "id": "63dc1aXDCXrm",
        "outputId": "0bce8d8c-2161-4b6a-abda-45f96db67e48"
      },
      "source": [
        "a = 1\r\n",
        "while contador <= 10:\r\n",
        "  nota = float(input(\"NOTA\" + str(a) + \":\"))\r\n",
        "  Total += nota\r\n",
        "  a+=1\r\n",
        "  print(\"Média:\" + str(Total/10))"
      ],
      "execution_count": null,
      "outputs": [
        {
          "output_type": "stream",
          "text": [
            "NOTA1:7\n",
            "Média:3.5\n"
          ],
          "name": "stdout"
        }
      ]
    }
  ]
}